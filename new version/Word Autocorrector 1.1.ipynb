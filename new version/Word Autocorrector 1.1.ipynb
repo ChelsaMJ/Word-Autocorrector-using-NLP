{
 "cells": [
  {
   "cell_type": "code",
   "execution_count": 1,
   "id": "8fc7adc7-2fa0-45f0-8805-5bf843abc5de",
   "metadata": {},
   "outputs": [
    {
     "name": "stderr",
     "output_type": "stream",
     "text": [
      "[nltk_data] Downloading package words to\n",
      "[nltk_data]     C:\\Users\\CHELSA\\AppData\\Roaming\\nltk_data...\n",
      "[nltk_data]   Package words is already up-to-date!\n",
      "[nltk_data] Downloading package brown to\n",
      "[nltk_data]     C:\\Users\\CHELSA\\AppData\\Roaming\\nltk_data...\n",
      "[nltk_data]   Package brown is already up-to-date!\n",
      "[nltk_data] Downloading package punkt to\n",
      "[nltk_data]     C:\\Users\\CHELSA\\AppData\\Roaming\\nltk_data...\n",
      "[nltk_data]   Package punkt is already up-to-date!\n"
     ]
    }
   ],
   "source": [
    "import nltk\n",
    "nltk.download('words')\n",
    "nltk.download('brown')\n",
    "nltk.download('punkt')\n",
    "\n",
    "import re\n",
    "from collections import Counter\n",
    "import string\n",
    "import spacy\n",
    "from nltk.corpus import words as nltk_words, brown\n",
    "\n"
   ]
  },
  {
   "cell_type": "code",
   "execution_count": 2,
   "id": "b70f390d-ec1a-4e43-82cd-d3b4a8f9d288",
   "metadata": {},
   "outputs": [],
   "source": [
    "# Load spaCy model\n",
    "nlp = spacy.load(\"en_core_web_sm\")\n",
    "\n"
   ]
  },
  {
   "cell_type": "code",
   "execution_count": 3,
   "id": "0d78194f-0758-4933-a44f-090ce605e8bd",
   "metadata": {},
   "outputs": [],
   "source": [
    "# English word list and frequency from corpora\n",
    "word_list = set(w.lower() for w in nltk_words.words())\n",
    "word_freq = Counter(brown.words())\n",
    "word_freq = {word.lower(): freq for word, freq in word_freq.items()}\n",
    "\n"
   ]
  },
  {
   "cell_type": "code",
   "execution_count": 5,
   "id": "0b6fcfe7-6e59-4389-a26e-34ac75fe2dc6",
   "metadata": {},
   "outputs": [],
   "source": [
    "# Word probability based on frequency\n",
    "total_count = sum(word_freq.values())\n",
    "word_prob = {word: count / total_count for word, count in word_freq.items()}\n",
    "\n"
   ]
  },
  {
   "cell_type": "code",
   "execution_count": 7,
   "id": "cec373ec-eaa8-4021-bc16-c28ff0eed3a0",
   "metadata": {},
   "outputs": [],
   "source": [
    "# Lemmatization (optional, not used in correction logic here)\n",
    "def LemmWord(text):\n",
    "    doc = nlp(text)\n",
    "    return [token.lemma_ for token in doc]\n",
    "\n"
   ]
  },
  {
   "cell_type": "code",
   "execution_count": 9,
   "id": "88022ace-d263-4245-97e4-47a532c3a9ac",
   "metadata": {},
   "outputs": [],
   "source": [
    "# Generate edit-distance-1 words\n",
    "def edits1(word):\n",
    "    letters = string.ascii_lowercase\n",
    "    splits = [(word[:i], word[i:]) for i in range(len(word)+1)]\n",
    "    deletes = [L + R[1:] for L, R in splits if R]\n",
    "    transposes = [L + R[1] + R[0] + R[2:] for L, R in splits if len(R) > 1]\n",
    "    replaces = [L + c + R[1:] for L, R in splits if R for c in letters]\n",
    "    inserts = [L + c + R for L, R in splits for c in letters]\n",
    "    return set(deletes + transposes + replaces + inserts)\n",
    "\n"
   ]
  },
  {
   "cell_type": "code",
   "execution_count": 13,
   "id": "4c4c0b97-db36-44ca-a227-14d8b1e578bf",
   "metadata": {},
   "outputs": [],
   "source": [
    "# Return known words from vocabulary\n",
    "def known(words):\n",
    "    return set(w for w in words if w in word_list)\n",
    "\n"
   ]
  },
  {
   "cell_type": "code",
   "execution_count": 31,
   "id": "f0af60b8-330b-4758-a927-d80ad30146c5",
   "metadata": {},
   "outputs": [],
   "source": [
    "# Autocorrect function using edit-distance 1\n",
    "def autocorrect(word):\n",
    "    word = word.lower()\n",
    "    candidates = known([word]) or known(edits1(word)) or [word]\n",
    "    return sorted(candidates, key=lambda w: -word_prob.get(w, 0))[:5]\n",
    "\n"
   ]
  },
  {
   "cell_type": "code",
   "execution_count": 33,
   "id": "7dbade9c-26cc-477a-8da7-66d5bd9feb33",
   "metadata": {},
   "outputs": [
    {
     "name": "stdin",
     "output_type": "stream",
     "text": [
      "Enter any word:  wagt\n"
     ]
    },
    {
     "name": "stdout",
     "output_type": "stream",
     "text": [
      "Suggestions: ['wage', 'wait', 'wart', 'walt', 'want']\n"
     ]
    }
   ],
   "source": [
    "# Run it\n",
    "input_word = input(\"Enter any word: \")\n",
    "print(\"Suggestions:\", autocorrect(input_word))\n"
   ]
  },
  {
   "cell_type": "code",
   "execution_count": null,
   "id": "2c55d77e-fbec-4dfb-9043-4beb52d8e517",
   "metadata": {},
   "outputs": [],
   "source": []
  }
 ],
 "metadata": {
  "kernelspec": {
   "display_name": "Python 3 (ipykernel)",
   "language": "python",
   "name": "python3"
  },
  "language_info": {
   "codemirror_mode": {
    "name": "ipython",
    "version": 3
   },
   "file_extension": ".py",
   "mimetype": "text/x-python",
   "name": "python",
   "nbconvert_exporter": "python",
   "pygments_lexer": "ipython3",
   "version": "3.12.7"
  }
 },
 "nbformat": 4,
 "nbformat_minor": 5
}
